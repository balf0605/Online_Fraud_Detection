{
 "cells": [
  {
   "cell_type": "markdown",
   "metadata": {},
   "source": [
    "# Online Fraud Detection Analysis\n",
    "This notebook performs advanced fraud detection on the `onlinefraud.csv` dataset, including feature engineering, exploratory data analysis (EDA), XGBoost modeling, and anomaly detection with Isolation Forest."
   ]
  },
  {
   "cell_type": "code",
   "execution_count": null,
   "metadata": {},
   "outputs": [],
   "source": [
    "# Import libraries\n",
    "import pandas as pd\n",
    "import numpy as np\n",
    "import matplotlib.pyplot as plt\n",
    "import seaborn as sns\n",
    "from sklearn.model_selection import train_test_split\n",
    "from sklearn.ensemble import IsolationForest\n",
    "from xgboost import XGBClassifier\n",
    "import pickle"
   ]
  },
  {
   "cell_type": "markdown",
   "metadata": {},
   "source": [
    "## Load the Dataset"
   ]
  },
  {
   "cell_type": "code",
   "execution_count": 21,
   "id": "6279b891",
   "metadata": {},
   "outputs": [
    {
     "name": "stdout",
     "output_type": "stream",
     "text": [
      "Sampled data shape: (636262, 11)\n"
     ]
    },
    {
     "data": {
      "text/html": [
       "<div>\n",
       "<style scoped>\n",
       "    .dataframe tbody tr th:only-of-type {\n",
       "        vertical-align: middle;\n",
       "    }\n",
       "\n",
       "    .dataframe tbody tr th {\n",
       "        vertical-align: top;\n",
       "    }\n",
       "\n",
       "    .dataframe thead th {\n",
       "        text-align: right;\n",
       "    }\n",
       "</style>\n",
       "<table border=\"1\" class=\"dataframe\">\n",
       "  <thead>\n",
       "    <tr style=\"text-align: right;\">\n",
       "      <th></th>\n",
       "      <th>step</th>\n",
       "      <th>type</th>\n",
       "      <th>amount</th>\n",
       "      <th>nameOrig</th>\n",
       "      <th>oldbalanceOrg</th>\n",
       "      <th>newbalanceOrig</th>\n",
       "      <th>nameDest</th>\n",
       "      <th>oldbalanceDest</th>\n",
       "      <th>newbalanceDest</th>\n",
       "      <th>isFraud</th>\n",
       "      <th>isFlaggedFraud</th>\n",
       "    </tr>\n",
       "  </thead>\n",
       "  <tbody>\n",
       "    <tr>\n",
       "      <th>3737323</th>\n",
       "      <td>278</td>\n",
       "      <td>CASH_IN</td>\n",
       "      <td>3.302184e+05</td>\n",
       "      <td>C632336343</td>\n",
       "      <td>20866.0</td>\n",
       "      <td>3.510844e+05</td>\n",
       "      <td>C834976624</td>\n",
       "      <td>4.524196e+05</td>\n",
       "      <td>1.222011e+05</td>\n",
       "      <td>0</td>\n",
       "      <td>0</td>\n",
       "    </tr>\n",
       "    <tr>\n",
       "      <th>264914</th>\n",
       "      <td>15</td>\n",
       "      <td>PAYMENT</td>\n",
       "      <td>1.164708e+04</td>\n",
       "      <td>C1264712553</td>\n",
       "      <td>30370.0</td>\n",
       "      <td>1.872292e+04</td>\n",
       "      <td>M215391829</td>\n",
       "      <td>0.000000e+00</td>\n",
       "      <td>0.000000e+00</td>\n",
       "      <td>0</td>\n",
       "      <td>0</td>\n",
       "    </tr>\n",
       "    <tr>\n",
       "      <th>85647</th>\n",
       "      <td>10</td>\n",
       "      <td>CASH_IN</td>\n",
       "      <td>1.522642e+05</td>\n",
       "      <td>C1746846248</td>\n",
       "      <td>106589.0</td>\n",
       "      <td>2.588532e+05</td>\n",
       "      <td>C1607284477</td>\n",
       "      <td>2.013030e+05</td>\n",
       "      <td>4.903880e+04</td>\n",
       "      <td>0</td>\n",
       "      <td>0</td>\n",
       "    </tr>\n",
       "    <tr>\n",
       "      <th>5899326</th>\n",
       "      <td>403</td>\n",
       "      <td>TRANSFER</td>\n",
       "      <td>1.551761e+06</td>\n",
       "      <td>C333676753</td>\n",
       "      <td>0.0</td>\n",
       "      <td>0.000000e+00</td>\n",
       "      <td>C1564353608</td>\n",
       "      <td>3.198360e+06</td>\n",
       "      <td>4.750120e+06</td>\n",
       "      <td>0</td>\n",
       "      <td>0</td>\n",
       "    </tr>\n",
       "    <tr>\n",
       "      <th>2544263</th>\n",
       "      <td>206</td>\n",
       "      <td>CASH_IN</td>\n",
       "      <td>7.817230e+04</td>\n",
       "      <td>C813403091</td>\n",
       "      <td>2921331.5</td>\n",
       "      <td>2.999504e+06</td>\n",
       "      <td>C1091768874</td>\n",
       "      <td>4.158219e+05</td>\n",
       "      <td>3.376496e+05</td>\n",
       "      <td>0</td>\n",
       "      <td>0</td>\n",
       "    </tr>\n",
       "  </tbody>\n",
       "</table>\n",
       "</div>"
      ],
      "text/plain": [
       "         step      type        amount     nameOrig  oldbalanceOrg  \\\n",
       "3737323   278   CASH_IN  3.302184e+05   C632336343        20866.0   \n",
       "264914     15   PAYMENT  1.164708e+04  C1264712553        30370.0   \n",
       "85647      10   CASH_IN  1.522642e+05  C1746846248       106589.0   \n",
       "5899326   403  TRANSFER  1.551761e+06   C333676753            0.0   \n",
       "2544263   206   CASH_IN  7.817230e+04   C813403091      2921331.5   \n",
       "\n",
       "         newbalanceOrig     nameDest  oldbalanceDest  newbalanceDest  isFraud  \\\n",
       "3737323    3.510844e+05   C834976624    4.524196e+05    1.222011e+05        0   \n",
       "264914     1.872292e+04   M215391829    0.000000e+00    0.000000e+00        0   \n",
       "85647      2.588532e+05  C1607284477    2.013030e+05    4.903880e+04        0   \n",
       "5899326    0.000000e+00  C1564353608    3.198360e+06    4.750120e+06        0   \n",
       "2544263    2.999504e+06  C1091768874    4.158219e+05    3.376496e+05        0   \n",
       "\n",
       "         isFlaggedFraud  \n",
       "3737323               0  \n",
       "264914                0  \n",
       "85647                 0  \n",
       "5899326               0  \n",
       "2544263               0  "
      ]
     },
     "execution_count": 21,
     "metadata": {},
     "output_type": "execute_result"
    }
   ],
   "source": [
    "dtypes = {\n",
    "    'type': 'category',  # Use category dtype for type\n",
    "    'amount': 'float32',\n",
    "    'oldbalanceOrg': 'float32',\n",
    "    'newbalanceOrig': 'float32',\n",
    "    'oldbalanceDest': 'float32',\n",
    "    'newbalanceDest': 'float32',\n",
    "    'isFraud': 'int8'\n",
    "}\n",
    "data = pd.read_csv(\"onlinefraud.csv\", dtype=dtypes)\n",
    "data = data.sample(frac=0.1, random_state=42)  # Sample 10% to manage memory\n",
    "print(f\"Sampled data shape: {data.shape}\")\n",
    "data.head()"
   ]
  },
  {
   "cell_type": "markdown",
   "metadata": {},
   "source": [
    "## Step 1: Feature Engineering"
   ]
  },
  {
   "cell_type": "code",
   "execution_count": 23,
   "metadata": {},
   "outputs": [
    {
     "name": "stdout",
     "output_type": "stream",
     "text": [
      "Feature engineering completed:\n"
     ]
    },
    {
     "data": {
      "text/html": [
       "<div>\n",
       "<style scoped>\n",
       "    .dataframe tbody tr th:only-of-type {\n",
       "        vertical-align: middle;\n",
       "    }\n",
       "\n",
       "    .dataframe tbody tr th {\n",
       "        vertical-align: top;\n",
       "    }\n",
       "\n",
       "    .dataframe thead th {\n",
       "        text-align: right;\n",
       "    }\n",
       "</style>\n",
       "<table border=\"1\" class=\"dataframe\">\n",
       "  <thead>\n",
       "    <tr style=\"text-align: right;\">\n",
       "      <th></th>\n",
       "      <th>amount</th>\n",
       "      <th>oldbalanceOrg</th>\n",
       "      <th>newbalanceOrig</th>\n",
       "      <th>oldbalanceDest</th>\n",
       "      <th>newbalanceDest</th>\n",
       "      <th>balance_diff_orig</th>\n",
       "      <th>balance_diff_dest</th>\n",
       "      <th>is_orig_balance_zero</th>\n",
       "      <th>is_dest_balance_zero</th>\n",
       "      <th>amount_to_orig_balance</th>\n",
       "      <th>amount_to_dest_balance</th>\n",
       "      <th>type_code</th>\n",
       "    </tr>\n",
       "  </thead>\n",
       "  <tbody>\n",
       "    <tr>\n",
       "      <th>3737323</th>\n",
       "      <td>3.302184e+05</td>\n",
       "      <td>20866.0</td>\n",
       "      <td>3.510844e+05</td>\n",
       "      <td>4.524196e+05</td>\n",
       "      <td>1.222011e+05</td>\n",
       "      <td>-330218.406250</td>\n",
       "      <td>3.302184e+05</td>\n",
       "      <td>0</td>\n",
       "      <td>0</td>\n",
       "      <td>15.825669</td>\n",
       "      <td>0.729894</td>\n",
       "      <td>0</td>\n",
       "    </tr>\n",
       "    <tr>\n",
       "      <th>264914</th>\n",
       "      <td>1.164708e+04</td>\n",
       "      <td>30370.0</td>\n",
       "      <td>1.872292e+04</td>\n",
       "      <td>0.000000e+00</td>\n",
       "      <td>0.000000e+00</td>\n",
       "      <td>11647.080078</td>\n",
       "      <td>0.000000e+00</td>\n",
       "      <td>0</td>\n",
       "      <td>1</td>\n",
       "      <td>0.383506</td>\n",
       "      <td>0.000000</td>\n",
       "      <td>3</td>\n",
       "    </tr>\n",
       "    <tr>\n",
       "      <th>85647</th>\n",
       "      <td>1.522642e+05</td>\n",
       "      <td>106589.0</td>\n",
       "      <td>2.588532e+05</td>\n",
       "      <td>2.013030e+05</td>\n",
       "      <td>4.903880e+04</td>\n",
       "      <td>-152264.203125</td>\n",
       "      <td>1.522642e+05</td>\n",
       "      <td>0</td>\n",
       "      <td>0</td>\n",
       "      <td>1.428517</td>\n",
       "      <td>0.756393</td>\n",
       "      <td>0</td>\n",
       "    </tr>\n",
       "    <tr>\n",
       "      <th>5899326</th>\n",
       "      <td>1.551761e+06</td>\n",
       "      <td>0.0</td>\n",
       "      <td>0.000000e+00</td>\n",
       "      <td>3.198360e+06</td>\n",
       "      <td>4.750120e+06</td>\n",
       "      <td>0.000000</td>\n",
       "      <td>-1.551760e+06</td>\n",
       "      <td>1</td>\n",
       "      <td>0</td>\n",
       "      <td>0.000000</td>\n",
       "      <td>0.485174</td>\n",
       "      <td>4</td>\n",
       "    </tr>\n",
       "    <tr>\n",
       "      <th>2544263</th>\n",
       "      <td>7.817230e+04</td>\n",
       "      <td>2921331.5</td>\n",
       "      <td>2.999504e+06</td>\n",
       "      <td>4.158219e+05</td>\n",
       "      <td>3.376496e+05</td>\n",
       "      <td>-78172.500000</td>\n",
       "      <td>7.817231e+04</td>\n",
       "      <td>0</td>\n",
       "      <td>0</td>\n",
       "      <td>0.026759</td>\n",
       "      <td>0.187995</td>\n",
       "      <td>0</td>\n",
       "    </tr>\n",
       "  </tbody>\n",
       "</table>\n",
       "</div>"
      ],
      "text/plain": [
       "               amount  oldbalanceOrg  newbalanceOrig  oldbalanceDest  \\\n",
       "3737323  3.302184e+05        20866.0    3.510844e+05    4.524196e+05   \n",
       "264914   1.164708e+04        30370.0    1.872292e+04    0.000000e+00   \n",
       "85647    1.522642e+05       106589.0    2.588532e+05    2.013030e+05   \n",
       "5899326  1.551761e+06            0.0    0.000000e+00    3.198360e+06   \n",
       "2544263  7.817230e+04      2921331.5    2.999504e+06    4.158219e+05   \n",
       "\n",
       "         newbalanceDest  balance_diff_orig  balance_diff_dest  \\\n",
       "3737323    1.222011e+05     -330218.406250       3.302184e+05   \n",
       "264914     0.000000e+00       11647.080078       0.000000e+00   \n",
       "85647      4.903880e+04     -152264.203125       1.522642e+05   \n",
       "5899326    4.750120e+06           0.000000      -1.551760e+06   \n",
       "2544263    3.376496e+05      -78172.500000       7.817231e+04   \n",
       "\n",
       "         is_orig_balance_zero  is_dest_balance_zero  amount_to_orig_balance  \\\n",
       "3737323                     0                     0               15.825669   \n",
       "264914                      0                     1                0.383506   \n",
       "85647                       0                     0                1.428517   \n",
       "5899326                     1                     0                0.000000   \n",
       "2544263                     0                     0                0.026759   \n",
       "\n",
       "         amount_to_dest_balance  type_code  \n",
       "3737323                0.729894          0  \n",
       "264914                 0.000000          3  \n",
       "85647                  0.756393          0  \n",
       "5899326                0.485174          4  \n",
       "2544263                0.187995          0  "
      ]
     },
     "execution_count": 23,
     "metadata": {},
     "output_type": "execute_result"
    }
   ],
   "source": [
    "# Feature engineering\n",
    "data['balance_diff_orig'] = data['oldbalanceOrg'] - data['newbalanceOrig']\n",
    "data['balance_diff_dest'] = data['oldbalanceDest'] - data['newbalanceDest']\n",
    "data['is_orig_balance_zero'] = (data['oldbalanceOrg'] == 0).astype('int8')\n",
    "data['is_dest_balance_zero'] = (data['newbalanceDest'] == 0).astype('int8')\n",
    "data['amount_to_orig_balance'] = np.where(data['oldbalanceOrg'] > 0, data['amount'] / data['oldbalanceOrg'], 0).astype('float32')\n",
    "data['amount_to_dest_balance'] = np.where(data['oldbalanceDest'] > 0, data['amount'] / data['oldbalanceDest'], 0).astype('float32')\n",
    "data['type_code'] = data['type'].cat.codes  # Convert type to integer codes\n",
    "\n",
    "# Define features (excluding step, hour_of_day, day_of_week)\n",
    "features = ['amount', 'oldbalanceOrg', 'newbalanceOrig', 'oldbalanceDest', 'newbalanceDest',\n",
    "            'balance_diff_orig', 'balance_diff_dest', 'is_orig_balance_zero', \n",
    "            'is_dest_balance_zero', 'amount_to_orig_balance', 'amount_to_dest_balance', \n",
    "            'type_code']\n",
    "X = data[features]\n",
    "y = data['isFraud']\n",
    "\n",
    "# Display result\n",
    "print(\"Feature engineering completed:\")\n",
    "data[features].head()"
   ]
  },
  {
   "cell_type": "markdown",
   "metadata": {},
   "source": [
    "## Step 2: Exploratory Data Analysis (EDA)"
   ]
  },
  {
   "cell_type": "code",
   "execution_count": 30,
   "metadata": {},
   "outputs": [
    {
     "name": "stdout",
     "output_type": "stream",
     "text": [
      "Fraud Distribution:\n",
      " isFraud\n",
      "0    0.998716\n",
      "1    0.001284\n",
      "Name: proportion, dtype: float64\n"
     ]
    },
    {
     "data": {
      "image/png": "[encoded data removed]",
      "text/plain": [
       "<Figure size 1000x600 with 1 Axes>"
      ]
     },
     "metadata": {},
     "output_type": "display_data"
    }
   ],
   "source": [
    "# Fraud distribution\n",
    "print(\"Fraud Distribution:\\n\", data['isFraud'].value_counts(normalize=True))\n",
    "\n",
    "# Amount distribution by fraud\n",
    "plt.figure(figsize=(10, 6))\n",
    "sns.boxplot(x='isFraud', y='amount', data=data)\n",
    "plt.title(\"Amount Distribution by Fraud Status\")\n",
    "plt.yscale('log')  # Log scale due to large range in amounts\n",
    "plt.show()"
   ]
  },
  {
   "cell_type": "markdown",
   "metadata": {},
   "source": [
    "## Step 3: Train/Test Split"
   ]
  },
  {
   "cell_type": "code",
   "execution_count": 25,
   "metadata": {},
   "outputs": [
    {
     "name": "stdout",
     "output_type": "stream",
     "text": [
      "Training set size: (509009, 12)\n",
      "Test set size: (127253, 12)\n",
      "X_train dtypes:\n",
      " amount                    float32\n",
      "oldbalanceOrg             float32\n",
      "newbalanceOrig            float32\n",
      "oldbalanceDest            float32\n",
      "newbalanceDest            float32\n",
      "balance_diff_orig         float32\n",
      "balance_diff_dest         float32\n",
      "is_orig_balance_zero         int8\n",
      "is_dest_balance_zero         int8\n",
      "amount_to_orig_balance    float32\n",
      "amount_to_dest_balance    float32\n",
      "type_code                    int8\n",
      "dtype: object\n",
      "y_train dtype: int8\n"
     ]
    }
   ],
   "source": [
    "# Train/test split\n",
    "X_train, X_test, y_train, y_test = train_test_split(X, y, test_size=0.2, random_state=42)\n",
    "print(\"Training set size:\", X_train.shape)\n",
    "print(\"Test set size:\", X_test.shape)\n",
    "\n",
    "print(\"X_train dtypes:\\n\", X_train.dtypes)\n",
    "print(\"y_train dtype:\", y_train.dtype)"
   ]
  },
  {
   "cell_type": "markdown",
   "metadata": {},
   "source": [
    "## Step 4: Advanced Modeling with XGBoost"
   ]
  },
  {
   "cell_type": "code",
   "execution_count": null,
   "metadata": {},
   "outputs": [
    {
     "name": "stderr",
     "output_type": "stream",
     "text": [
      "/home/meekhumor/.local/lib/python3.10/site-packages/xgboost/training.py:183: UserWarning: [10:29:00] WARNING: /workspace/src/learner.cc:738: \n",
      "Parameters: { \"use_label_encoder\" } are not used.\n",
      "\n",
      "  bst.update(dtrain, iteration=i, fobj=obj)\n"
     ]
    },
    {
     "name": "stdout",
     "output_type": "stream",
     "text": [
      "Training and predictions completed.\n",
      "First 5 predictions: [0 0 0 0 0]\n",
      "First 5 probabilities: [4.4159611e-07 3.9777797e-07 7.6704180e-07 6.5208659e-12 2.1784949e-09]\n",
      "Model saved as 'xgboost_model.pkl'.\n"
     ]
    }
   ],
   "source": [
    "# Calculate scale_pos_weight for imbalanced data\n",
    "scale_pos_weight = (len(y_train) - sum(y_train)) / sum(y_train)\n",
    "\n",
    "# Train XGBoost model\n",
    "model = XGBClassifier(scale_pos_weight=scale_pos_weight, random_state=42, use_label_encoder=False, eval_metric='logloss')\n",
    "model.fit(X_train, y_train)"
   ]
  },
  {
   "cell_type": "markdown",
   "id": "f6f8ddc5",
   "metadata": {},
   "source": [
    "## Step 5: Save Models"
   ]
  },
  {
   "cell_type": "code",
   "execution_count": null,
   "id": "fc9ab224",
   "metadata": {},
   "outputs": [],
   "source": [
    "with open(\"xgboost_model_no_step.pkl\", \"wb\") as file:\n",
    "    pickle.dump(model, file)\n",
    "print(\"Model saved as 'xgboost_model_no_step.pkl'.\")"
   ]
  },
  {
   "cell_type": "markdown",
   "id": "4e17493a",
   "metadata": {},
   "source": [
    "## Step 6: Model Prediction"
   ]
  },
  {
   "cell_type": "code",
   "execution_count": 28,
   "id": "dfc05cc6",
   "metadata": {},
   "outputs": [
    {
     "name": "stdout",
     "output_type": "stream",
     "text": [
      "Enter transaction details:\n"
     ]
    },
    {
     "name": "stdout",
     "output_type": "stream",
     "text": [
      "\n",
      "Prediction Result:\n",
      "Predicted Class: 1 (0 = No Fraud, 1 = Fraud)\n",
      "Fraud Probability: 0.9803\n"
     ]
    }
   ],
   "source": [
    "# Load the trained model\n",
    "with open(\"xgboost_model_no_step.pkl\", \"rb\") as file:\n",
    "    model = pickle.load(file)\n",
    "\n",
    "# Define the features the model was trained on\n",
    "features = ['amount', 'oldbalanceOrg', 'newbalanceOrig', 'oldbalanceDest', 'newbalanceDest',\n",
    "            'balance_diff_orig', 'balance_diff_dest', 'is_orig_balance_zero', \n",
    "            'is_dest_balance_zero', 'amount_to_orig_balance', 'amount_to_dest_balance', \n",
    "            'type_code']\n",
    "\n",
    "# Mapping for type to type_code (based on typical fraud dataset categories)\n",
    "type_mapping = {'CASH_IN': 0, 'CASH_OUT': 1, 'DEBIT': 2, 'PAYMENT': 3, 'TRANSFER': 4}\n",
    "\n",
    "# Manual input for prediction\n",
    "print(\"Enter transaction details:\")\n",
    "transaction_type = input(\"Transaction Type (CASH_IN, CASH_OUT, DEBIT, PAYMENT, TRANSFER): \").upper()\n",
    "amount = float(input(\"Amount (e.g., 1000.0): \"))\n",
    "oldbalanceOrg = float(input(\"Origin Balance Before (e.g., 5000.0): \"))\n",
    "newbalanceOrig = float(input(\"Origin Balance After (e.g., 4000.0): \"))\n",
    "oldbalanceDest = float(input(\"Destination Balance Before (e.g., 0.0): \"))\n",
    "newbalanceDest = float(input(\"Destination Balance After (e.g., 1000.0): \"))\n",
    "\n",
    "# Create a DataFrame with raw input\n",
    "raw_data = pd.DataFrame({\n",
    "    'amount': [amount],\n",
    "    'oldbalanceOrg': [oldbalanceOrg],\n",
    "    'newbalanceOrig': [newbalanceOrig],\n",
    "    'oldbalanceDest': [oldbalanceDest],\n",
    "    'newbalanceDest': [newbalanceDest]\n",
    "})\n",
    "\n",
    "# Feature engineering (matching training process, no step)\n",
    "raw_data['balance_diff_orig'] = raw_data['oldbalanceOrg'] - raw_data['newbalanceOrig']\n",
    "raw_data['balance_diff_dest'] = raw_data['oldbalanceDest'] - raw_data['newbalanceDest']\n",
    "raw_data['is_orig_balance_zero'] = (raw_data['oldbalanceOrg'] == 0).astype(int)\n",
    "raw_data['is_dest_balance_zero'] = (raw_data['newbalanceDest'] == 0).astype(int)\n",
    "raw_data['amount_to_orig_balance'] = np.where(raw_data['oldbalanceOrg'] > 0, raw_data['amount'] / raw_data['oldbalanceOrg'], 0)\n",
    "raw_data['amount_to_dest_balance'] = np.where(raw_data['oldbalanceDest'] > 0, raw_data['amount'] / raw_data['oldbalanceDest'], 0)\n",
    "raw_data['type_code'] = [type_mapping[transaction_type]]  # Convert type to type_code directly\n",
    "\n",
    "# Ensure all expected columns are present and in the right order\n",
    "new_data = raw_data[features]\n",
    "\n",
    "# Make prediction\n",
    "prediction = model.predict(new_data)[0]\n",
    "probability = model.predict_proba(new_data)[0, 1]\n",
    "\n",
    "# Output result\n",
    "print(\"\\nPrediction Result:\")\n",
    "print(f\"Predicted Class: {prediction} (0 = No Fraud, 1 = Fraud)\")\n",
    "print(f\"Fraud Probability: {probability:.4f}\")"
   ]
  }
 ],
 "metadata": {
  "kernelspec": {
   "display_name": "Python 3",
   "language": "python",
   "name": "python3"
  },
  "language_info": {
   "codemirror_mode": {
    "name": "ipython",
    "version": 3
   },
   "file_extension": ".py",
   "mimetype": "text/x-python",
   "name": "python",
   "nbconvert_exporter": "python",
   "pygments_lexer": "ipython3",
   "version": "3.10.12"
  }
 },
 "nbformat": 4,
 "nbformat_minor": 5
}
